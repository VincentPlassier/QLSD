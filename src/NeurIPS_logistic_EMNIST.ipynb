{
 "cells": [
  {
   "cell_type": "code",
   "execution_count": 304,
   "metadata": {},
   "outputs": [],
   "source": [
    "import scipy.io\n",
    "import json\n",
    "from tqdm import trange\n",
    "import math\n",
    "\n",
    "import torch.utils.data as data\n",
    "from PIL import Image\n",
    "import numpy as np\n",
    "from torchvision.datasets import EMNIST\n",
    "from torchvision.datasets import DatasetFolder\n",
    "from torchvision import transforms\n",
    "import copy\n",
    "%matplotlib inline\n",
    "import matplotlib.pyplot as plt"
   ]
  },
  {
   "cell_type": "code",
   "execution_count": 305,
   "metadata": {},
   "outputs": [],
   "source": [
    "def SQuantization(s,x): \n",
    "    \n",
    "    # s : number of quantization levels\n",
    "    # x : vector to compress\n",
    "    \n",
    "    if s == 0:\n",
    "        return x\n",
    "    norm_x = np.linalg.norm(x,2)\n",
    "    if norm_x == 0:\n",
    "        return x\n",
    "    ratio = np.abs(x) / norm_x\n",
    "    l = np.floor(ratio * s)\n",
    "    p = ratio * s - l\n",
    "    sampled = np.random.binomial(1,p)\n",
    "    qtzt = np.sign(x) * norm_x * (l + sampled) / s\n",
    "    return qtzt\n",
    "\n",
    "def com_bits(s,d):\n",
    "    if s <= np.sqrt(d/2 - np.sqrt(d)):\n",
    "        return (3 + (3/2) * np.log(2*(s**2 + d)/(s*(s+np.sqrt(d))))) * s*(s+np.sqrt(d)) + 32\n",
    "    elif s == np.sqrt(d):\n",
    "        return 2.8*d + 32\n",
    "    else:\n",
    "        return ((1/2)*(np.log(1 + (s**2+np.minimum(d,s*np.sqrt(d)))/d) + 1) + 2) * d + 32"
   ]
  },
  {
   "cell_type": "code",
   "execution_count": 306,
   "metadata": {},
   "outputs": [],
   "source": [
    "train_dataset = EMNIST('./data', split=\"digits\", train=True, download=True,\n",
    "                           transform=transforms.Compose([\n",
    "                               transforms.ToTensor(),\n",
    "                               transforms.Normalize((0.1307,), (0.3081,))]))\n",
    "test_dataset = EMNIST('./data', split=\"digits\", train=False, transform=transforms.Compose([\n",
    "                               transforms.ToTensor(),\n",
    "                               transforms.Normalize((0.1307,), (0.3081,))]))"
   ]
  },
  {
   "cell_type": "code",
   "execution_count": 307,
   "metadata": {},
   "outputs": [],
   "source": [
    "def femnist_star(dataset, num_users):\n",
    "    \"\"\"\n",
    "        Sample non-IID client data from EMNIST dataset -> FEMNIST*\n",
    "        :param dataset:\n",
    "        :param num_users:\n",
    "        :return: dict of image index\n",
    "    \"\"\"\n",
    "    print(\"Sampling dataset: FEMNIST*\")\n",
    "    np.random.seed(1994)\n",
    "\n",
    "    dict_users = {i: [] for i in range(num_users)}\n",
    "    total_len = len(dataset)\n",
    "\n",
    "    labels = dataset.targets.numpy()\n",
    "    idxs = np.argsort(labels)\n",
    "\n",
    "    num_shards, num_imgs = 26 * num_users, total_len // (num_users * 26)\n",
    "\n",
    "    label_selected = [np.random.choice(26, 20, replace=False) for _ in range(num_users)]\n",
    "\n",
    "    label_selected_1 = [np.random.choice(label_selected[i], 6, replace=False) for i in range(num_users)]\n",
    "    for i in range(num_users):\n",
    "        for j in label_selected[i]:\n",
    "            ind_pos = np.random.choice(num_users)\n",
    "            tmp = copy.deepcopy(idxs[j * num_users * num_imgs + ind_pos * num_imgs: j * num_users * num_imgs + (ind_pos + 1) * num_imgs])\n",
    "            dict_users[i].append(tmp)\n",
    "        for j in label_selected_1[i]:\n",
    "            ind_pos = np.random.choice(num_users)\n",
    "            tmp = copy.deepcopy(idxs[j * num_users * num_imgs + ind_pos * num_imgs: j * num_users * num_imgs + (\n",
    "                        ind_pos + 1) * num_imgs])\n",
    "            dict_users[i].append(tmp)\n",
    "\n",
    "    for i in range(num_users):\n",
    "        dict_users[i] = np.concatenate(tuple(dict_users[i]), axis=0)\n",
    "    return dict_users"
   ]
  },
  {
   "cell_type": "code",
   "execution_count": 308,
   "metadata": {},
   "outputs": [],
   "source": [
    "b = 10 # number of clients\n",
    "n_max = 200 # maximum number of observations on each client\n",
    "n_min = 20 # minimum number of observations on each client\n",
    "np.random.seed(1994)\n",
    "n = np.random.randint(low=n_min,high=n_max,size=b) # number of observations per client"
   ]
  },
  {
   "cell_type": "code",
   "execution_count": 309,
   "metadata": {},
   "outputs": [
    {
     "data": {
      "text/plain": [
       "Text(0.5, 1.0, 'Synthetic$(\\\\alpha,\\\\beta)$ dataset with $\\\\alpha=1$, $\\\\beta=1$')"
      ]
     },
     "execution_count": 309,
     "metadata": {},
     "output_type": "execute_result"
    },
    {
     "data": {
      "image/png": "[encoded data removed]",
      "text/plain": [
       "<Figure size 432x288 with 1 Axes>"
      ]
     },
     "metadata": {
      "needs_background": "light"
     },
     "output_type": "display_data"
    }
   ],
   "source": [
    "plt.figure()\n",
    "plt.bar(range(b),n)\n",
    "plt.xlabel(r'Client $i$',size=15)\n",
    "plt.ylabel(r'Number of observations $N_i$',size=15)\n",
    "plt.title(r'Synthetic$(\\alpha,\\beta)$ dataset with $\\alpha=1$, $\\beta=1$',size=15)"
   ]
  },
  {
   "cell_type": "markdown",
   "metadata": {},
   "source": [
    "#### Preprocessing"
   ]
  },
  {
   "cell_type": "code",
   "execution_count": 147,
   "metadata": {},
   "outputs": [
    {
     "name": "stdout",
     "output_type": "stream",
     "text": [
      "Sampling dataset: FEMNIST*\n"
     ]
    }
   ],
   "source": [
    "d = 28*28\n",
    "\n",
    "dict_users = femnist_star(train_dataset,b)\n",
    "X = []\n",
    "y = []\n",
    "for i in range(b):\n",
    "    np.random.seed(1994)\n",
    "    idx_client = np.random.choice(dict_users[i],n[i],replace=False)\n",
    "    X.append([np.reshape(train_dataset[i][0].numpy(),(d,)) for i in idx_client])\n",
    "    y.append([train_dataset[i][1] for i in idx_client])\n",
    "\n",
    "# Define total observations and features\n",
    "y_tot = np.concatenate(y,axis=0)\n",
    "X_tot = np.concatenate(X,axis=0)"
   ]
  },
  {
   "cell_type": "markdown",
   "metadata": {},
   "source": [
    "#### Algorithms"
   ]
  },
  {
   "cell_type": "code",
   "execution_count": 285,
   "metadata": {},
   "outputs": [],
   "source": [
    "def ULA(T_total,T_bi,T,gamma,init):\n",
    "    \n",
    "    # Definition of the arrays of interest\n",
    "    loss = np.zeros(T)\n",
    "    acc = np.zeros(T)\n",
    "    theta = np.zeros((T,d,K))\n",
    "    x = np.zeros((d,K))\n",
    "    x[:,0] = init\n",
    "    \n",
    "    # Initialisation\n",
    "    Loss = 0\n",
    "    for k in range(K):\n",
    "        idx = np.where(y_tot == k)\n",
    "        A = np.reshape(np.exp(np.dot(X_tot[idx,:],x)),(np.size(idx),K))\n",
    "        Loss += np.sum(np.log(np.sum(A,axis=1)) - np.dot(X_tot[idx,:],x[:,k]))\n",
    "        \n",
    "    loss[0] = Loss + (tau/2) * np.sum(np.linalg.norm(theta[0,:],axis=0)**2) \n",
    "    \n",
    "    # Parameters\n",
    "    thin = int((T_total-T_bi+1)/T)\n",
    "\n",
    "    for t in range(T_total-1):\n",
    "\n",
    "        for k in range(K):\n",
    "            idx = np.where(y_tot == k)\n",
    "            A = np.reshape(np.exp(np.dot(X_tot[idx,:],x)),(np.size(idx),K))\n",
    "            P = np.exp(np.dot(X_tot[idx,:],x[:,k])) / np.sum(A,axis=1)\n",
    "            grad = np.dot(np.reshape(X_tot[idx,:],(np.size(idx),d)).T, np.reshape(P - 1,(np.size(idx),))) + tau * x[:,k]\n",
    "            grad = np.reshape(grad,(d,))\n",
    "            x[:,k] += - gamma * grad + np.sqrt(2*gamma) * np.random.normal(0,1,d)   \n",
    "            \n",
    "            \n",
    "            \n",
    "        # Save theta according to the thinning strategy\n",
    "        if (t % thin == 0) and (t >= T_bi):\n",
    "            theta[int((t-T_bi)/thin) + 1,:] = x\n",
    "\n",
    "            # Compute the loss\n",
    "            loss_func = 0\n",
    "            for k in range(K):\n",
    "                idx = np.where(y_tot == k)\n",
    "                A = np.reshape(np.exp(np.dot(X_tot[idx,:],x)),(np.size(idx),K))\n",
    "                loss_func += np.sum(np.log(np.sum(A,axis=1)) - np.dot(X_tot[idx,:],x[:,k]))\n",
    "\n",
    "            loss[int((t-T_bi)/thin) + 1] = loss_func + (tau/2) * np.sum(np.linalg.norm(x,axis=0)**2)\n",
    "\n",
    "            # Compute the accuracy of train set\n",
    "            proba = np.zeros((len(y_tot),K))\n",
    "            A = np.reshape(np.exp(np.dot(X_tot,x)),(len(y_tot),K))\n",
    "            for k in range(K):\n",
    "                proba[:,k] = np.exp(np.dot(X_tot,x[:,k])) / np.sum(A,axis=1)\n",
    "\n",
    "            err = proba.argmax(axis=1) - y_tot\n",
    "            err[err != 0] = 1\n",
    "            acc[int((t-T_bi)/thin) + 1] = 1 - np.sum(err)/len(err)\n",
    "    \n",
    "    return theta, loss, acc\n",
    "\n",
    "def QLSDpp(T_total,T_bi,T,gamma,p,init,s,L,alpha):\n",
    "    \n",
    "    # Definition of the arrays of interest\n",
    "    loss = np.zeros(T)\n",
    "    acc = np.zeros(T)\n",
    "    theta = np.zeros((T,d,K))\n",
    "    qgrad = np.zeros((b,d))\n",
    "    h = np.zeros((b,d,K))\n",
    "    x = np.zeros((d,K))\n",
    "    z = np.zeros((d,K))\n",
    "    \n",
    "    # Initialisation\n",
    "    Loss = 0\n",
    "    for k in range(K):\n",
    "        idx = np.where(y_tot == k)\n",
    "        A = np.reshape(np.exp(np.dot(X_tot[idx,:],x)),(np.size(idx),K))\n",
    "        Loss += np.sum(np.log(np.sum(A,axis=1)) - np.dot(X_tot[idx,:],x[:,k]))\n",
    "        \n",
    "    loss[0] = Loss + (tau/2) * np.sum(np.linalg.norm(theta[0,:],axis=0)**2) \n",
    "    \n",
    "    # Parameters\n",
    "    thin = int((T_total-T_bi+1)/T)\n",
    "\n",
    "    for t in range(T_total-1):\n",
    "\n",
    "        for k in range(K):\n",
    "            \n",
    "            # Initialisation\n",
    "            if t == 0:\n",
    "                x[:,k] = init\n",
    "            \n",
    "            # Update the control variate every K iterations\n",
    "            if t % L == 0: \n",
    "                z = x\n",
    "            \n",
    "            # For each client in parallel\n",
    "            for i in range(b): \n",
    "                \n",
    "                X[i] = np.array(X[i])\n",
    "                \n",
    "                # Find training data associated to the k-th class\n",
    "                idx = np.where(np.array(y[i]) == k)\n",
    "                batch_size = np.size(idx)\n",
    "                A = np.reshape(np.exp(np.dot(X[i][np.reshape(idx,(batch_size,)),:],x)),(batch_size,K))\n",
    "            \n",
    "                # Compute full gradient at control variate\n",
    "                P = np.exp(np.dot(X[i][idx,:],z[:,k])) / np.sum(A,axis=1)\n",
    "                fullgrad_z = np.dot(np.reshape(X[i][idx,:],(batch_size,d)).T, np.reshape(P - 1,(batch_size,))) \\\n",
    "                             + (batch_size/fullbatch_size) * tau * x[:,k]\n",
    "                fullgrad_z = np.reshape(fullgrad_z,(d,))\n",
    "\n",
    "                # Compute stochastic gradient based on SVRG scheme\n",
    "                idx_minibatch = np.random.randint(0, batch_size,size=int(p*batch_size))\n",
    "                minibatch_size = np.size(idx_minibatch)\n",
    "                A = np.reshape(np.exp(np.dot(X[i][np.reshape(idx,(batch_size,)),:][idx_minibatch,:],x)),(minibatch_size,K))\n",
    "                P = np.exp(np.dot(X[i][np.reshape(idx,(batch_size,)),:][idx_minibatch,:],x[:,k])) / np.sum(A,axis=1)\n",
    "                grad_theta = np.dot(np.reshape(X[i][np.reshape(idx,(batch_size,)),:][idx_minibatch,:],(minibatch_size,d)).T, \n",
    "                                    np.reshape(P - 1,(minibatch_size,))) \\\n",
    "                             + (minibatch_size/fullbatch_size) * tau * x[:,k]\n",
    "                P = np.exp(np.dot(X[i][np.reshape(idx,(batch_size,)),:][idx_minibatch,:],z[:,k])) / np.sum(A,axis=1)\n",
    "                grad_z = np.dot(np.reshape(X[i][np.reshape(idx,(batch_size,)),:][idx_minibatch,:],(minibatch_size,d)).T, \n",
    "                                    np.reshape(P - 1,(minibatch_size,))) \\\n",
    "                             + (minibatch_size/fullbatch_size) * tau * z[:,k]\n",
    "                grad = 1/p * (grad_theta - grad_z) + fullgrad_z\n",
    "\n",
    "                # Quantize the stochastic gradient minus memory term\n",
    "                qqgrad = SQuantization(s, grad - h[i,:,k])\n",
    "                qgrad[i,:] = qqgrad + h[i,:,k]\n",
    "                h[i,:,k] = h[i,:,k] + alpha * qqgrad \n",
    "            \n",
    "            # Update theta on server\n",
    "            x[:,k] = x[:,k] - gamma * np.sum(qgrad,axis=0) + np.sqrt(2*gamma) * np.random.normal(0,1,size=d)\n",
    "              \n",
    "            \n",
    "        # Save theta according to the thinning strategy\n",
    "        if (t % thin == 0) and (t >= T_bi):\n",
    "            theta[int((t-T_bi)/thin) + 1,:] = x\n",
    "\n",
    "            # Compute the loss\n",
    "            loss_func = 0\n",
    "            for k in range(K):\n",
    "                idx = np.where(y_tot == k)\n",
    "                A = np.reshape(np.exp(np.dot(X_tot[idx,:],x)),(np.size(idx),K))\n",
    "                loss_func += np.sum(np.log(np.sum(A,axis=1)) - np.dot(X_tot[idx,:],x[:,k]))\n",
    "\n",
    "            loss[int((t-T_bi)/thin) + 1] = loss_func + (tau/2) * np.sum(np.linalg.norm(x,axis=0)**2)\n",
    "\n",
    "            # Compute the accuracy of train set\n",
    "            proba = np.zeros((len(y_tot),K))\n",
    "            A = np.reshape(np.exp(np.dot(X_tot,x)),(len(y_tot),K))\n",
    "            for k in range(K):\n",
    "                proba[:,k] = np.exp(np.dot(X_tot,x[:,k])) / np.sum(A,axis=1)\n",
    "\n",
    "            err = proba.argmax(axis=1) - y_tot\n",
    "            err[err != 0] = 1\n",
    "            acc[int((t-T_bi)/thin) + 1] = 1 - np.sum(err)/len(err)\n",
    "    \n",
    "    return theta, loss, acc\n",
    "\n",
    "def LSDpp(T_total,T_bi,T,gamma,p,init,L):\n",
    "    \n",
    "    # Definition of the arrays of interest\n",
    "    loss = np.zeros(T)\n",
    "    acc = np.zeros(T)\n",
    "    theta = np.zeros((T,d,K))\n",
    "    grad = np.zeros((b,d))\n",
    "    x = np.zeros((d,K))\n",
    "    z = np.zeros((d,K))\n",
    "    \n",
    "    # Initialisation\n",
    "    Loss = 0\n",
    "    for k in range(K):\n",
    "        idx = np.where(y_tot == k)\n",
    "        A = np.reshape(np.exp(np.dot(X_tot[idx,:],x)),(np.size(idx),K))\n",
    "        Loss += np.sum(np.log(np.sum(A,axis=1)) - np.dot(X_tot[idx,:],x[:,k]))\n",
    "        \n",
    "    loss[0] = Loss + (tau/2) * np.sum(np.linalg.norm(theta[0,:],axis=0)**2) \n",
    "    \n",
    "    # Parameters\n",
    "    thin = int((T_total-T_bi+1)/T)\n",
    "\n",
    "    for t in range(T_total-1):\n",
    "\n",
    "        for k in range(K):\n",
    "            \n",
    "            # Initialisation\n",
    "            if t == 0:\n",
    "                x[:,k] = init\n",
    "            \n",
    "            # Update the control variate every K iterations\n",
    "            if t % L == 0: \n",
    "                z = x\n",
    "            \n",
    "            # For each client in parallel\n",
    "            for i in range(b): \n",
    "                \n",
    "                X[i] = np.array(X[i])\n",
    "                \n",
    "                # Find training data associated to the k-th class\n",
    "                idx = np.where(np.array(y[i]) == k)\n",
    "                batch_size = np.size(idx)\n",
    "                A = np.reshape(np.exp(np.dot(X[i][np.reshape(idx,(batch_size,)),:],x)),(batch_size,K))\n",
    "            \n",
    "                # Compute full gradient at control variate\n",
    "                P = np.exp(np.dot(X[i][idx,:],z[:,k])) / np.sum(A,axis=1)\n",
    "                fullgrad_z = np.dot(np.reshape(X[i][idx,:],(batch_size,d)).T, np.reshape(P - 1,(batch_size,))) \\\n",
    "                             + (batch_size/fullbatch_size) * tau * x[:,k]\n",
    "                fullgrad_z = np.reshape(fullgrad_z,(d,))\n",
    "\n",
    "                # Compute stochastic gradient based on SVRG scheme\n",
    "                idx_minibatch = np.random.randint(0, batch_size,size=int(p*batch_size))\n",
    "                minibatch_size = np.size(idx_minibatch)\n",
    "                A = np.reshape(np.exp(np.dot(X[i][np.reshape(idx,(batch_size,)),:][idx_minibatch,:],x)),(minibatch_size,K))\n",
    "                P = np.exp(np.dot(X[i][np.reshape(idx,(batch_size,)),:][idx_minibatch,:],x[:,k])) / np.sum(A,axis=1)\n",
    "                grad_theta = np.dot(np.reshape(X[i][np.reshape(idx,(batch_size,)),:][idx_minibatch,:],(minibatch_size,d)).T, \n",
    "                                    np.reshape(P - 1,(minibatch_size,))) \\\n",
    "                             + (minibatch_size/fullbatch_size) * tau * x[:,k]\n",
    "                P = np.exp(np.dot(X[i][np.reshape(idx,(batch_size,)),:][idx_minibatch,:],z[:,k])) / np.sum(A,axis=1)\n",
    "                grad_z = np.dot(np.reshape(X[i][np.reshape(idx,(batch_size,)),:][idx_minibatch,:],(minibatch_size,d)).T, \n",
    "                                    np.reshape(P - 1,(minibatch_size,))) \\\n",
    "                             + (minibatch_size/fullbatch_size) * tau * z[:,k]\n",
    "                grad[i,:] = 1/p * (grad_theta - grad_z) + fullgrad_z\n",
    "\n",
    "            \n",
    "            # Update theta on server\n",
    "            x[:,k] = x[:,k] - gamma * np.sum(grad,axis=0) + np.sqrt(2*gamma) * np.random.normal(0,1,size=d)\n",
    "              \n",
    "            \n",
    "        # Save theta according to the thinning strategy\n",
    "        if (t % thin == 0) and (t >= T_bi):\n",
    "            theta[int((t-T_bi)/thin) + 1,:] = x\n",
    "\n",
    "            # Compute the loss\n",
    "            loss_func = 0\n",
    "            for k in range(K):\n",
    "                idx = np.where(y_tot == k)\n",
    "                A = np.reshape(np.exp(np.dot(X_tot[idx,:],x)),(np.size(idx),K))\n",
    "                loss_func += np.sum(np.log(np.sum(A,axis=1)) - np.dot(X_tot[idx,:],x[:,k]))\n",
    "\n",
    "            loss[int((t-T_bi)/thin) + 1] = loss_func + (tau/2) * np.sum(np.linalg.norm(x,axis=0)**2)\n",
    "\n",
    "            # Compute the accuracy of train set\n",
    "            proba = np.zeros((len(y_tot),K))\n",
    "            A = np.reshape(np.exp(np.dot(X_tot,x)),(len(y_tot),K))\n",
    "            for k in range(K):\n",
    "                proba[:,k] = np.exp(np.dot(X_tot,x[:,k])) / np.sum(A,axis=1)\n",
    "\n",
    "            err = proba.argmax(axis=1) - y_tot\n",
    "            err[err != 0] = 1\n",
    "            acc[int((t-T_bi)/thin) + 1] = 1 - np.sum(err)/len(err)\n",
    "    \n",
    "    return theta, loss, acc"
   ]
  },
  {
   "cell_type": "code",
   "execution_count": 291,
   "metadata": {},
   "outputs": [
    {
     "ename": "KeyboardInterrupt",
     "evalue": "",
     "output_type": "error",
     "traceback": [
      "\u001b[1;31m---------------------------------------------------------------------------\u001b[0m",
      "\u001b[1;31mKeyboardInterrupt\u001b[0m                         Traceback (most recent call last)",
      "\u001b[1;32m<ipython-input-291-83b870663138>\u001b[0m in \u001b[0;36m<module>\u001b[1;34m\u001b[0m\n\u001b[0;32m     13\u001b[0m \u001b[0mT\u001b[0m \u001b[1;33m=\u001b[0m \u001b[1;36m10000\u001b[0m\u001b[1;33m\u001b[0m\u001b[1;33m\u001b[0m\u001b[0m\n\u001b[0;32m     14\u001b[0m \u001b[1;33m\u001b[0m\u001b[0m\n\u001b[1;32m---> 15\u001b[1;33m \u001b[0mtheta\u001b[0m\u001b[1;33m,\u001b[0m\u001b[0mloss1\u001b[0m\u001b[1;33m,\u001b[0m\u001b[0macc1\u001b[0m \u001b[1;33m=\u001b[0m \u001b[0mLSDpp\u001b[0m\u001b[1;33m(\u001b[0m\u001b[0mT_total\u001b[0m\u001b[1;33m=\u001b[0m\u001b[0mT\u001b[0m\u001b[1;33m,\u001b[0m\u001b[0mT_bi\u001b[0m\u001b[1;33m=\u001b[0m\u001b[1;36m0\u001b[0m\u001b[1;33m,\u001b[0m\u001b[0mT\u001b[0m\u001b[1;33m=\u001b[0m\u001b[0mT\u001b[0m\u001b[1;33m,\u001b[0m\u001b[0mgamma\u001b[0m\u001b[1;33m=\u001b[0m\u001b[0mgamma\u001b[0m\u001b[1;33m,\u001b[0m\u001b[0mp\u001b[0m\u001b[1;33m=\u001b[0m\u001b[0mp\u001b[0m\u001b[1;33m,\u001b[0m\u001b[0minit\u001b[0m\u001b[1;33m=\u001b[0m\u001b[0minit\u001b[0m\u001b[1;33m,\u001b[0m\u001b[0mL\u001b[0m\u001b[1;33m=\u001b[0m\u001b[0mL\u001b[0m\u001b[1;33m)\u001b[0m\u001b[1;33m\u001b[0m\u001b[1;33m\u001b[0m\u001b[0m\n\u001b[0m\u001b[0;32m     16\u001b[0m \u001b[0mtheta\u001b[0m\u001b[1;33m,\u001b[0m\u001b[0mloss2\u001b[0m\u001b[1;33m,\u001b[0m\u001b[0macc2\u001b[0m \u001b[1;33m=\u001b[0m \u001b[0mQLSDpp\u001b[0m\u001b[1;33m(\u001b[0m\u001b[0mT_total\u001b[0m\u001b[1;33m=\u001b[0m\u001b[0mT\u001b[0m\u001b[1;33m,\u001b[0m\u001b[0mT_bi\u001b[0m\u001b[1;33m=\u001b[0m\u001b[1;36m0\u001b[0m\u001b[1;33m,\u001b[0m\u001b[0mT\u001b[0m\u001b[1;33m=\u001b[0m\u001b[0mT\u001b[0m\u001b[1;33m,\u001b[0m\u001b[0mgamma\u001b[0m\u001b[1;33m=\u001b[0m\u001b[0mgamma\u001b[0m\u001b[1;33m,\u001b[0m\u001b[0mp\u001b[0m\u001b[1;33m=\u001b[0m\u001b[0mp\u001b[0m\u001b[1;33m,\u001b[0m\u001b[0minit\u001b[0m\u001b[1;33m=\u001b[0m\u001b[0minit\u001b[0m\u001b[1;33m,\u001b[0m\u001b[0ms\u001b[0m\u001b[1;33m=\u001b[0m\u001b[0mS\u001b[0m\u001b[1;33m[\u001b[0m\u001b[1;36m0\u001b[0m\u001b[1;33m]\u001b[0m\u001b[1;33m,\u001b[0m\u001b[0mL\u001b[0m\u001b[1;33m=\u001b[0m\u001b[0mL\u001b[0m\u001b[1;33m,\u001b[0m\u001b[0malpha\u001b[0m\u001b[1;33m=\u001b[0m\u001b[1;36m1\u001b[0m\u001b[1;33m/\u001b[0m\u001b[1;33m(\u001b[0m\u001b[0momega\u001b[0m\u001b[1;33m[\u001b[0m\u001b[1;36m0\u001b[0m\u001b[1;33m]\u001b[0m\u001b[1;33m+\u001b[0m\u001b[1;36m1\u001b[0m\u001b[1;33m)\u001b[0m\u001b[1;33m)\u001b[0m\u001b[1;33m\u001b[0m\u001b[1;33m\u001b[0m\u001b[0m\n\u001b[0;32m     17\u001b[0m \u001b[0mtheta\u001b[0m\u001b[1;33m,\u001b[0m\u001b[0mloss3\u001b[0m\u001b[1;33m,\u001b[0m\u001b[0macc3\u001b[0m \u001b[1;33m=\u001b[0m \u001b[0mQLSDpp\u001b[0m\u001b[1;33m(\u001b[0m\u001b[0mT_total\u001b[0m\u001b[1;33m=\u001b[0m\u001b[0mT\u001b[0m\u001b[1;33m,\u001b[0m\u001b[0mT_bi\u001b[0m\u001b[1;33m=\u001b[0m\u001b[1;36m0\u001b[0m\u001b[1;33m,\u001b[0m\u001b[0mT\u001b[0m\u001b[1;33m=\u001b[0m\u001b[0mT\u001b[0m\u001b[1;33m,\u001b[0m\u001b[0mgamma\u001b[0m\u001b[1;33m=\u001b[0m\u001b[0mgamma\u001b[0m\u001b[1;33m,\u001b[0m\u001b[0mp\u001b[0m\u001b[1;33m=\u001b[0m\u001b[0mp\u001b[0m\u001b[1;33m,\u001b[0m\u001b[0minit\u001b[0m\u001b[1;33m=\u001b[0m\u001b[0minit\u001b[0m\u001b[1;33m,\u001b[0m\u001b[0ms\u001b[0m\u001b[1;33m=\u001b[0m\u001b[0mS\u001b[0m\u001b[1;33m[\u001b[0m\u001b[1;36m1\u001b[0m\u001b[1;33m]\u001b[0m\u001b[1;33m,\u001b[0m\u001b[0mL\u001b[0m\u001b[1;33m=\u001b[0m\u001b[0mL\u001b[0m\u001b[1;33m,\u001b[0m\u001b[0malpha\u001b[0m\u001b[1;33m=\u001b[0m\u001b[1;36m1\u001b[0m\u001b[1;33m/\u001b[0m\u001b[1;33m(\u001b[0m\u001b[0momega\u001b[0m\u001b[1;33m[\u001b[0m\u001b[1;36m1\u001b[0m\u001b[1;33m]\u001b[0m\u001b[1;33m+\u001b[0m\u001b[1;36m1\u001b[0m\u001b[1;33m)\u001b[0m\u001b[1;33m)\u001b[0m\u001b[1;33m\u001b[0m\u001b[1;33m\u001b[0m\u001b[0m\n",
      "\u001b[1;32m<ipython-input-285-78dcef2abad9>\u001b[0m in \u001b[0;36mLSDpp\u001b[1;34m(T_total, T_bi, T, gamma, p, init, L)\u001b[0m\n\u001b[0;32m    239\u001b[0m             \u001b[1;31m# Compute the accuracy of train set\u001b[0m\u001b[1;33m\u001b[0m\u001b[1;33m\u001b[0m\u001b[1;33m\u001b[0m\u001b[0m\n\u001b[0;32m    240\u001b[0m             \u001b[0mproba\u001b[0m \u001b[1;33m=\u001b[0m \u001b[0mnp\u001b[0m\u001b[1;33m.\u001b[0m\u001b[0mzeros\u001b[0m\u001b[1;33m(\u001b[0m\u001b[1;33m(\u001b[0m\u001b[0mlen\u001b[0m\u001b[1;33m(\u001b[0m\u001b[0my_tot\u001b[0m\u001b[1;33m)\u001b[0m\u001b[1;33m,\u001b[0m\u001b[0mK\u001b[0m\u001b[1;33m)\u001b[0m\u001b[1;33m)\u001b[0m\u001b[1;33m\u001b[0m\u001b[1;33m\u001b[0m\u001b[0m\n\u001b[1;32m--> 241\u001b[1;33m             \u001b[0mA\u001b[0m \u001b[1;33m=\u001b[0m \u001b[0mnp\u001b[0m\u001b[1;33m.\u001b[0m\u001b[0mreshape\u001b[0m\u001b[1;33m(\u001b[0m\u001b[0mnp\u001b[0m\u001b[1;33m.\u001b[0m\u001b[0mexp\u001b[0m\u001b[1;33m(\u001b[0m\u001b[0mnp\u001b[0m\u001b[1;33m.\u001b[0m\u001b[0mdot\u001b[0m\u001b[1;33m(\u001b[0m\u001b[0mX_tot\u001b[0m\u001b[1;33m,\u001b[0m\u001b[0mx\u001b[0m\u001b[1;33m)\u001b[0m\u001b[1;33m)\u001b[0m\u001b[1;33m,\u001b[0m\u001b[1;33m(\u001b[0m\u001b[0mlen\u001b[0m\u001b[1;33m(\u001b[0m\u001b[0my_tot\u001b[0m\u001b[1;33m)\u001b[0m\u001b[1;33m,\u001b[0m\u001b[0mK\u001b[0m\u001b[1;33m)\u001b[0m\u001b[1;33m)\u001b[0m\u001b[1;33m\u001b[0m\u001b[1;33m\u001b[0m\u001b[0m\n\u001b[0m\u001b[0;32m    242\u001b[0m             \u001b[1;32mfor\u001b[0m \u001b[0mk\u001b[0m \u001b[1;32min\u001b[0m \u001b[0mrange\u001b[0m\u001b[1;33m(\u001b[0m\u001b[0mK\u001b[0m\u001b[1;33m)\u001b[0m\u001b[1;33m:\u001b[0m\u001b[1;33m\u001b[0m\u001b[1;33m\u001b[0m\u001b[0m\n\u001b[0;32m    243\u001b[0m                 \u001b[0mproba\u001b[0m\u001b[1;33m[\u001b[0m\u001b[1;33m:\u001b[0m\u001b[1;33m,\u001b[0m\u001b[0mk\u001b[0m\u001b[1;33m]\u001b[0m \u001b[1;33m=\u001b[0m \u001b[0mnp\u001b[0m\u001b[1;33m.\u001b[0m\u001b[0mexp\u001b[0m\u001b[1;33m(\u001b[0m\u001b[0mnp\u001b[0m\u001b[1;33m.\u001b[0m\u001b[0mdot\u001b[0m\u001b[1;33m(\u001b[0m\u001b[0mX_tot\u001b[0m\u001b[1;33m,\u001b[0m\u001b[0mx\u001b[0m\u001b[1;33m[\u001b[0m\u001b[1;33m:\u001b[0m\u001b[1;33m,\u001b[0m\u001b[0mk\u001b[0m\u001b[1;33m]\u001b[0m\u001b[1;33m)\u001b[0m\u001b[1;33m)\u001b[0m \u001b[1;33m/\u001b[0m \u001b[0mnp\u001b[0m\u001b[1;33m.\u001b[0m\u001b[0msum\u001b[0m\u001b[1;33m(\u001b[0m\u001b[0mA\u001b[0m\u001b[1;33m,\u001b[0m\u001b[0maxis\u001b[0m\u001b[1;33m=\u001b[0m\u001b[1;36m1\u001b[0m\u001b[1;33m)\u001b[0m\u001b[1;33m\u001b[0m\u001b[1;33m\u001b[0m\u001b[0m\n",
      "\u001b[1;32m<__array_function__ internals>\u001b[0m in \u001b[0;36mdot\u001b[1;34m(*args, **kwargs)\u001b[0m\n",
      "\u001b[1;31mKeyboardInterrupt\u001b[0m: "
     ]
    }
   ],
   "source": [
    "# Parameters\n",
    "K = 10\n",
    "tau = 100\n",
    "w, v = np.linalg.eig(np.dot(X_tot.T,X_tot))\n",
    "w = np.max(w.real)\n",
    "M = w * (1/4) + tau \n",
    "gamma = 1/(5*M)\n",
    "L = 100\n",
    "p = 0.2\n",
    "S = [2**2,2**4,2**8]\n",
    "omega = [np.minimum(d/s**2,np.sqrt(d)/s) for s in S]\n",
    "init = np.random.normal(0,1,size=d)\n",
    "T = 10000\n",
    "\n",
    "theta,loss1,acc1 = LSDpp(T_total=T,T_bi=0,T=T,gamma=gamma,p=p,init=init,L=L)\n",
    "theta,loss2,acc2 = QLSDpp(T_total=T,T_bi=0,T=T,gamma=gamma,p=p,init=init,s=S[0],L=L,alpha=1/(omega[0]+1))\n",
    "theta,loss3,acc3 = QLSDpp(T_total=T,T_bi=0,T=T,gamma=gamma,p=p,init=init,s=S[1],L=L,alpha=1/(omega[1]+1))\n",
    "theta,loss4,acc4 = QLSDpp(T_total=T,T_bi=0,T=T,gamma=gamma,p=p,init=init,s=S[2],L=L,alpha=1/(omega[2]+1))"
   ]
  },
  {
   "cell_type": "code",
   "execution_count": 290,
   "metadata": {
    "scrolled": false
   },
   "outputs": [
    {
     "data": {
      "image/png": "[encoded data removed]",
      "text/plain": [
       "<Figure size 432x288 with 1 Axes>"
      ]
     },
     "metadata": {
      "needs_background": "light"
     },
     "output_type": "display_data"
    },
    {
     "data": {
      "image/png": "[encoded data removed]",
      "text/plain": [
       "<Figure size 432x288 with 1 Axes>"
      ]
     },
     "metadata": {
      "needs_background": "light"
     },
     "output_type": "display_data"
    }
   ],
   "source": [
    "plt.figure()\n",
    "plt.plot(acc1)\n",
    "plt.plot(acc2)\n",
    "plt.grid()\n",
    "\n",
    "plt.figure()\n",
    "plt.plot(loss1[1:])\n",
    "plt.plot(loss2[1:])\n",
    "#plt.yscale('log')\n",
    "plt.grid()"
   ]
  },
  {
   "cell_type": "code",
   "execution_count": 87,
   "metadata": {},
   "outputs": [
    {
     "data": {
      "text/plain": [
       "[<matplotlib.lines.Line2D at 0x2398db573d0>,\n",
       " <matplotlib.lines.Line2D at 0x2398db57c10>,\n",
       " <matplotlib.lines.Line2D at 0x2398db57730>,\n",
       " <matplotlib.lines.Line2D at 0x2398db575e0>,\n",
       " <matplotlib.lines.Line2D at 0x2398db57130>,\n",
       " <matplotlib.lines.Line2D at 0x2398db571f0>,\n",
       " <matplotlib.lines.Line2D at 0x2398db57100>,\n",
       " <matplotlib.lines.Line2D at 0x2398db57d30>,\n",
       " <matplotlib.lines.Line2D at 0x2398db57610>,\n",
       " <matplotlib.lines.Line2D at 0x2398db574f0>]"
      ]
     },
     "execution_count": 87,
     "metadata": {},
     "output_type": "execute_result"
    },
    {
     "data": {
      "image/png": "[encoded data removed]",
      "text/plain": [
       "<Figure size 432x288 with 1 Axes>"
      ]
     },
     "metadata": {
      "needs_background": "light"
     },
     "output_type": "display_data"
    }
   ],
   "source": [
    "plt.plot(np.linalg.norm(theta,axis=1)**2)"
   ]
  },
  {
   "cell_type": "code",
   "execution_count": null,
   "metadata": {},
   "outputs": [],
   "source": []
  }
 ],
 "metadata": {
  "kernelspec": {
   "display_name": "Python 3.8.0 64-bit",
   "language": "python",
   "name": "python3"
  },
  "language_info": {
   "codemirror_mode": {
    "name": "ipython",
    "version": 3
   },
   "file_extension": ".py",
   "mimetype": "text/x-python",
   "name": "python",
   "nbconvert_exporter": "python",
   "pygments_lexer": "ipython3",
   "version": "3.8.0"
  },
  "vscode": {
   "interpreter": {
    "hash": "df0893f56f349688326838aaeea0de204df53a132722cbd565e54b24a8fec5f6"
   }
  }
 },
 "nbformat": 4,
 "nbformat_minor": 4
}
