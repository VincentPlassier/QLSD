{
 "cells": [
  {
   "cell_type": "code",
   "execution_count": 8,
   "metadata": {},
   "outputs": [],
   "source": [
    "#import scipy.io\n",
    "#import json\n",
    "from tqdm import trange\n",
    "#import math\n",
    "\n",
    "#import torch.utils.data as data\n",
    "#from PIL import Image\n",
    "import numpy as np\n",
    "from torchvision.datasets import EMNIST\n",
    "from torchvision.datasets import DatasetFolder\n",
    "from torchvision import transforms\n",
    "import copy\n",
    "%matplotlib inline\n",
    "import matplotlib.pyplot as plt"
   ]
  },
  {
   "cell_type": "code",
   "execution_count": 9,
   "metadata": {},
   "outputs": [],
   "source": [
    "def SQuantization(s,x): \n",
    "    \n",
    "    # s : number of quantization levels\n",
    "    # x : vector to compress\n",
    "    \n",
    "    if s == 0:\n",
    "        return x\n",
    "    norm_x = np.linalg.norm(x,2)\n",
    "    if norm_x == 0:\n",
    "        return x\n",
    "    ratio = np.abs(x) / norm_x\n",
    "    l = np.floor(ratio * s)\n",
    "    p = ratio * s - l\n",
    "    sampled = np.random.binomial(1,p)\n",
    "    qtzt = np.sign(x) * norm_x * (l + sampled) / s\n",
    "    return qtzt\n",
    "\n",
    "def com_bits(s,d):\n",
    "    if s <= np.sqrt(d/2 - np.sqrt(d)):\n",
    "        return (3 + (3/2) * np.log(2*(s**2 + d)/(s*(s+np.sqrt(d))))) * s*(s+np.sqrt(d)) + 32\n",
    "    elif s == np.sqrt(d):\n",
    "        return 2.8*d + 32\n",
    "    else:\n",
    "        return ((1/2)*(np.log(1 + (s**2+np.minimum(d,s*np.sqrt(d)))/d) + 1) + 2) * d + 32"
   ]
  },
  {
   "cell_type": "code",
   "execution_count": 10,
   "metadata": {},
   "outputs": [],
   "source": [
    "train_dataset = EMNIST('./data', split=\"digits\", train=True, download=True,\n",
    "                           transform=transforms.Compose([\n",
    "                               transforms.ToTensor(),\n",
    "                               transforms.Normalize((0.1307,), (0.3081,))]))\n",
    "test_dataset = EMNIST('./data', split=\"digits\", train=False, transform=transforms.Compose([\n",
    "                               transforms.ToTensor(),\n",
    "                               transforms.Normalize((0.1307,), (0.3081,))]))"
   ]
  },
  {
   "cell_type": "code",
   "execution_count": 11,
   "metadata": {},
   "outputs": [],
   "source": [
    "def femnist_star(dataset, num_users):\n",
    "    \"\"\"\n",
    "        Sample non-IID client data from EMNIST dataset -> FEMNIST*\n",
    "        :param dataset:\n",
    "        :param num_users:\n",
    "        :return: dict of image index\n",
    "    \"\"\"\n",
    "    print(\"Sampling dataset: FEMNIST*\")\n",
    "    np.random.seed(1994)\n",
    "\n",
    "    dict_users = {i: [] for i in range(num_users)}\n",
    "    total_len = len(dataset)\n",
    "\n",
    "    labels = dataset.targets.numpy()\n",
    "    idxs = np.argsort(labels)\n",
    "\n",
    "    num_shards, num_imgs = 26 * num_users, total_len // (num_users * 26)\n",
    "\n",
    "    label_selected = [np.random.choice(26, 20, replace=False) for _ in range(num_users)]\n",
    "\n",
    "    label_selected_1 = [np.random.choice(label_selected[i], 6, replace=False) for i in range(num_users)]\n",
    "    for i in range(num_users):\n",
    "        for j in label_selected[i]:\n",
    "            ind_pos = np.random.choice(num_users)\n",
    "            tmp = copy.deepcopy(idxs[j * num_users * num_imgs + ind_pos * num_imgs: j * num_users * num_imgs + (ind_pos + 1) * num_imgs])\n",
    "            dict_users[i].append(tmp)\n",
    "        for j in label_selected_1[i]:\n",
    "            ind_pos = np.random.choice(num_users)\n",
    "            tmp = copy.deepcopy(idxs[j * num_users * num_imgs + ind_pos * num_imgs: j * num_users * num_imgs + (\n",
    "                        ind_pos + 1) * num_imgs])\n",
    "            dict_users[i].append(tmp)\n",
    "\n",
    "    for i in range(num_users):\n",
    "        dict_users[i] = np.concatenate(tuple(dict_users[i]), axis=0)\n",
    "    return dict_users"
   ]
  },
  {
   "cell_type": "code",
   "execution_count": 21,
   "metadata": {},
   "outputs": [],
   "source": [
    "b = 10 # number of clients\n",
    "n_max = 100 # maximum number of observations on each client\n",
    "n_min = 20 # minimum number of observations on each client\n",
    "np.random.seed(1994)\n",
    "n = np.random.randint(low=n_min,high=n_max,size=b) # number of observations per client"
   ]
  },
  {
   "cell_type": "code",
   "execution_count": 22,
   "metadata": {},
   "outputs": [
    {
     "data": {
      "text/plain": [
       "Text(0.5, 1.0, 'Synthetic$(\\\\alpha,\\\\beta)$ dataset with $\\\\alpha=1$, $\\\\beta=1$')"
      ]
     },
     "execution_count": 22,
     "metadata": {},
     "output_type": "execute_result"
    },
    {
     "data": {
      "image/png": "[encoded data removed]",
      "text/plain": [
       "<Figure size 432x288 with 1 Axes>"
      ]
     },
     "metadata": {
      "needs_background": "light"
     },
     "output_type": "display_data"
    }
   ],
   "source": [
    "plt.figure()\n",
    "plt.bar(range(b),n)\n",
    "plt.xlabel(r'Client $i$',size=15)\n",
    "plt.ylabel(r'Number of observations $N_i$',size=15)\n",
    "plt.title(r'Synthetic$(\\alpha,\\beta)$ dataset with $\\alpha=1$, $\\beta=1$',size=15)"
   ]
  },
  {
   "cell_type": "code",
   "execution_count": 23,
   "metadata": {},
   "outputs": [
    {
     "name": "stdout",
     "output_type": "stream",
     "text": [
      "Sampling dataset: FEMNIST*\n"
     ]
    }
   ],
   "source": [
    "d = 28*28\n",
    "\n",
    "dict_users = femnist_star(train_dataset,b)\n",
    "X = []\n",
    "y = []\n",
    "for i in range(b):\n",
    "    np.random.seed(1994)\n",
    "    idx_client = np.random.choice(dict_users[i],n[i],replace=False)\n",
    "    X.append([np.reshape(train_dataset[i][0].numpy(),(d,)) for i in idx_client])\n",
    "    y.append([train_dataset[i][1] for i in idx_client])\n",
    "\n",
    "# Define total observations and features\n",
    "y_tot = np.concatenate(y,axis=0)\n",
    "X_tot = np.concatenate(X,axis=0)"
   ]
  },
  {
   "cell_type": "code",
   "execution_count": 24,
   "metadata": {},
   "outputs": [],
   "source": [
    "def ULA(T_total,T_bi,T,gamma,init):\n",
    "    \n",
    "    # Definition of the arrays of interest\n",
    "    loss = np.zeros(T)\n",
    "    acc = np.zeros(T)\n",
    "    theta = np.zeros((T,d,K))\n",
    "    x = np.zeros((d,K))\n",
    "    x[:,0] = init\n",
    "    \n",
    "    # Initialisation\n",
    "    Loss = 0\n",
    "    for k in range(K):\n",
    "        idx = np.where(y_tot == k)\n",
    "        A = np.reshape(np.exp(np.dot(X_tot[idx,:],x)),(np.size(idx),K))\n",
    "        Loss += np.sum(np.log(np.sum(A,axis=1)) - np.dot(X_tot[idx,:],x[:,k]))\n",
    "        \n",
    "    loss[0] = Loss + (tau/2) * np.sum(np.linalg.norm(theta[0,:],axis=0)**2) \n",
    "    \n",
    "    # Parameters\n",
    "    thin = int((T_total-T_bi+1)/T)\n",
    "\n",
    "    for t in range(T_total-1):\n",
    "\n",
    "        for k in range(K):\n",
    "            idx = np.where(y_tot == k)\n",
    "            A = np.reshape(np.exp(np.dot(X_tot[idx,:],x)),(np.size(idx),K))\n",
    "            P = np.exp(np.dot(X_tot[idx,:],x[:,k])) / np.sum(A,axis=1)\n",
    "            grad = np.dot(np.reshape(X_tot[idx,:],(np.size(idx),d)).T, np.reshape(P - 1,(np.size(idx),))) + tau * x[:,k]\n",
    "            grad = np.reshape(grad,(d,))\n",
    "            x[:,k] += - gamma * grad + np.sqrt(2*gamma) * np.random.normal(0,1,d)   \n",
    "            \n",
    "            \n",
    "            \n",
    "        # Save theta according to the thinning strategy\n",
    "        if (t % thin == 0) and (t >= T_bi):\n",
    "            theta[int((t-T_bi)/thin) + 1,:] = x\n",
    "\n",
    "            # Compute the loss\n",
    "            loss_func = 0\n",
    "            for k in range(K):\n",
    "                idx = np.where(y_tot == k)\n",
    "                A = np.reshape(np.exp(np.dot(X_tot[idx,:],x)),(np.size(idx),K))\n",
    "                loss_func += np.sum(np.log(np.sum(A,axis=1)) - np.dot(X_tot[idx,:],x[:,k]))\n",
    "\n",
    "            loss[int((t-T_bi)/thin) + 1] = loss_func + (tau/2) * np.sum(np.linalg.norm(x,axis=0)**2)\n",
    "\n",
    "            # Compute the accuracy of train set\n",
    "            proba = np.zeros((len(y_tot),K))\n",
    "            A = np.reshape(np.exp(np.dot(X_tot,x)),(len(y_tot),K))\n",
    "            for k in range(K):\n",
    "                proba[:,k] = np.exp(np.dot(X_tot,x[:,k])) / np.sum(A,axis=1)\n",
    "\n",
    "            err = proba.argmax(axis=1) - y_tot\n",
    "            err[err != 0] = 1\n",
    "            acc[int((t-T_bi)/thin) + 1] = 1 - np.sum(err)/len(err)\n",
    "    \n",
    "    return theta, loss, acc\n",
    "\n",
    "def QLSDpp(T_total,T_bi,T,gamma,p,init,s,L,alpha):\n",
    "    \n",
    "    # Definition of the arrays of interest\n",
    "    loss = np.zeros(T)\n",
    "    acc = np.zeros(T)\n",
    "    theta = np.zeros((T,d,K))\n",
    "    qgrad = np.zeros((b,d))\n",
    "    h = np.zeros((b,d,K))\n",
    "    x = np.zeros((d,K))\n",
    "    z = np.zeros((d,K))\n",
    "    \n",
    "    # Initialisation\n",
    "    Loss = 0\n",
    "    for k in range(K):\n",
    "        idx = np.where(y_tot == k)\n",
    "        A = np.reshape(np.exp(np.dot(X_tot[idx,:],x)),(np.size(idx),K))\n",
    "        Loss += np.sum(np.log(np.sum(A,axis=1)) - np.dot(X_tot[idx,:],x[:,k]))\n",
    "        \n",
    "    loss[0] = Loss + (tau/2) * np.sum(np.linalg.norm(theta[0,:],axis=0)**2) \n",
    "    \n",
    "    # Parameters\n",
    "    thin = int((T_total-T_bi+1)/T)\n",
    "\n",
    "    for t in range(T_total-1):\n",
    "\n",
    "        for k in range(K):\n",
    "            \n",
    "            # Initialisation\n",
    "            if t == 0:\n",
    "                x[:,k] = init\n",
    "            \n",
    "            # Update the control variate every K iterations\n",
    "            if t % L == 0: \n",
    "                z = x\n",
    "                \n",
    "            fullbatch_size = np.size(np.where(y_tot == k))\n",
    "            \n",
    "            # For each client in parallel\n",
    "            for i in range(b): \n",
    "                \n",
    "                X[i] = np.array(X[i])\n",
    "                \n",
    "                # Find training data associated to the k-th class\n",
    "                idx = np.where(np.array(y[i]) == k)\n",
    "                batch_size = np.size(idx)\n",
    "                A = np.reshape(np.exp(np.dot(X[i][np.reshape(idx,(batch_size,)),:],x)),(batch_size,K))\n",
    "            \n",
    "                # Compute full gradient at control variate\n",
    "                P = np.exp(np.dot(X[i][idx,:],z[:,k])) / np.sum(A,axis=1)\n",
    "                fullgrad_z = np.dot(np.reshape(X[i][idx,:],(batch_size,d)).T, np.reshape(P - 1,(batch_size,))) \\\n",
    "                             + (batch_size/fullbatch_size) * tau * x[:,k]\n",
    "                fullgrad_z = np.reshape(fullgrad_z,(d,))\n",
    "\n",
    "                # Compute stochastic gradient based on SVRG scheme\n",
    "                idx_minibatch = np.random.randint(0, batch_size,size=int(p*batch_size))\n",
    "                minibatch_size = np.size(idx_minibatch)\n",
    "                A = np.reshape(np.exp(np.dot(X[i][np.reshape(idx,(batch_size,)),:][idx_minibatch,:],x)),(minibatch_size,K))\n",
    "                P = np.exp(np.dot(X[i][np.reshape(idx,(batch_size,)),:][idx_minibatch,:],x[:,k])) / np.sum(A,axis=1)\n",
    "                grad_theta = np.dot(np.reshape(X[i][np.reshape(idx,(batch_size,)),:][idx_minibatch,:],(minibatch_size,d)).T, \n",
    "                                    np.reshape(P - 1,(minibatch_size,))) \\\n",
    "                             + (minibatch_size/fullbatch_size) * tau * x[:,k]\n",
    "                P = np.exp(np.dot(X[i][np.reshape(idx,(batch_size,)),:][idx_minibatch,:],z[:,k])) / np.sum(A,axis=1)\n",
    "                grad_z = np.dot(np.reshape(X[i][np.reshape(idx,(batch_size,)),:][idx_minibatch,:],(minibatch_size,d)).T, \n",
    "                                    np.reshape(P - 1,(minibatch_size,))) \\\n",
    "                             + (minibatch_size/fullbatch_size) * tau * z[:,k]\n",
    "                grad = 1/p * (grad_theta - grad_z) + fullgrad_z\n",
    "\n",
    "                # Quantize the stochastic gradient minus memory term\n",
    "                qqgrad = SQuantization(s, grad - h[i,:,k])\n",
    "                qgrad[i,:] = qqgrad + h[i,:,k]\n",
    "                h[i,:,k] = h[i,:,k] + alpha * qqgrad \n",
    "            \n",
    "            # Update theta on server\n",
    "            x[:,k] = x[:,k] - gamma * np.sum(qgrad,axis=0) + np.sqrt(2*gamma) * np.random.normal(0,1,size=d)\n",
    "              \n",
    "            \n",
    "        # Save theta according to the thinning strategy\n",
    "        if (t % thin == 0) and (t >= T_bi):\n",
    "            theta[int((t-T_bi)/thin) + 1,:] = x\n",
    "\n",
    "            # Compute the loss\n",
    "            loss_func = 0\n",
    "            for k in range(K):\n",
    "                idx = np.where(y_tot == k)\n",
    "                A = np.reshape(np.exp(np.dot(X_tot[idx,:],x)),(np.size(idx),K))\n",
    "                loss_func += np.sum(np.log(np.sum(A,axis=1)) - np.dot(X_tot[idx,:],x[:,k]))\n",
    "\n",
    "            loss[int((t-T_bi)/thin) + 1] = loss_func + (tau/2) * np.sum(np.linalg.norm(x,axis=0)**2)\n",
    "\n",
    "            # Compute the accuracy of train set\n",
    "            proba = np.zeros((len(y_tot),K))\n",
    "            A = np.reshape(np.exp(np.dot(X_tot,x)),(len(y_tot),K))\n",
    "            for k in range(K):\n",
    "                proba[:,k] = np.exp(np.dot(X_tot,x[:,k])) / np.sum(A,axis=1)\n",
    "\n",
    "            err = proba.argmax(axis=1) - y_tot\n",
    "            err[err != 0] = 1\n",
    "            acc[int((t-T_bi)/thin) + 1] = 1 - np.sum(err)/len(err)\n",
    "    \n",
    "    return theta, loss, acc\n",
    "\n",
    "def LSDpp(T_total,T_bi,T,gamma,p,init,L):\n",
    "    \n",
    "    # Definition of the arrays of interest\n",
    "    loss = np.zeros(T)\n",
    "    acc = np.zeros(T)\n",
    "    theta = np.zeros((T,d,K))\n",
    "    grad = np.zeros((b,d))\n",
    "    x = np.zeros((d,K))\n",
    "    z = np.zeros((d,K))\n",
    "    \n",
    "    # Initialisation\n",
    "    Loss = 0\n",
    "    for k in range(K):\n",
    "        idx = np.where(y_tot == k)\n",
    "        A = np.reshape(np.exp(np.dot(X_tot[idx,:],x)),(np.size(idx),K))\n",
    "        Loss += np.sum(np.log(np.sum(A,axis=1)) - np.dot(X_tot[idx,:],x[:,k]))\n",
    "        \n",
    "    loss[0] = Loss + (tau/2) * np.sum(np.linalg.norm(theta[0,:],axis=0)**2) \n",
    "    \n",
    "    # Parameters\n",
    "    thin = int((T_total-T_bi+1)/T)\n",
    "\n",
    "    for t in range(T_total-1):\n",
    "\n",
    "        for k in range(K):\n",
    "            \n",
    "            # Initialisation\n",
    "            if t == 0:\n",
    "                x[:,k] = init\n",
    "            \n",
    "            # Update the control variate every K iterations\n",
    "            if t % L == 0: \n",
    "                z = x\n",
    "                \n",
    "            fullbatch_size = np.size(np.where(y_tot == k))\n",
    "            \n",
    "            # For each client in parallel\n",
    "            for i in range(b): \n",
    "                \n",
    "                X[i] = np.array(X[i])\n",
    "                \n",
    "                # Find training data associated to the k-th class\n",
    "                idx = np.where(np.array(y[i]) == k)\n",
    "                batch_size = np.size(idx)\n",
    "                A = np.reshape(np.exp(np.dot(X[i][np.reshape(idx,(batch_size,)),:],x)),(batch_size,K))\n",
    "            \n",
    "                # Compute full gradient at control variate\n",
    "                P = np.exp(np.dot(X[i][idx,:],z[:,k])) / np.sum(A,axis=1)\n",
    "                fullgrad_z = np.dot(np.reshape(X[i][idx,:],(batch_size,d)).T, np.reshape(P - 1,(batch_size,))) \\\n",
    "                             + (batch_size/fullbatch_size) * tau * x[:,k]\n",
    "                fullgrad_z = np.reshape(fullgrad_z,(d,))\n",
    "\n",
    "                # Compute stochastic gradient based on SVRG scheme\n",
    "                idx_minibatch = np.random.randint(0, batch_size,size=int(p*batch_size))\n",
    "                minibatch_size = np.size(idx_minibatch)\n",
    "                A = np.reshape(np.exp(np.dot(X[i][np.reshape(idx,(batch_size,)),:][idx_minibatch,:],x)),(minibatch_size,K))\n",
    "                P = np.exp(np.dot(X[i][np.reshape(idx,(batch_size,)),:][idx_minibatch,:],x[:,k])) / np.sum(A,axis=1)\n",
    "                grad_theta = np.dot(np.reshape(X[i][np.reshape(idx,(batch_size,)),:][idx_minibatch,:],(minibatch_size,d)).T, \n",
    "                                    np.reshape(P - 1,(minibatch_size,))) \\\n",
    "                             + (minibatch_size/fullbatch_size) * tau * x[:,k]\n",
    "                P = np.exp(np.dot(X[i][np.reshape(idx,(batch_size,)),:][idx_minibatch,:],z[:,k])) / np.sum(A,axis=1)\n",
    "                grad_z = np.dot(np.reshape(X[i][np.reshape(idx,(batch_size,)),:][idx_minibatch,:],(minibatch_size,d)).T, \n",
    "                                    np.reshape(P - 1,(minibatch_size,))) \\\n",
    "                             + (minibatch_size/fullbatch_size) * tau * z[:,k]\n",
    "                grad[i,:] = 1/p * (grad_theta - grad_z) + fullgrad_z\n",
    "            \n",
    "            # Update theta on server\n",
    "            x[:,k] = x[:,k] - gamma * np.sum(grad,axis=0) + np.sqrt(2*gamma) * np.random.normal(0,1,size=d)\n",
    "              \n",
    "            \n",
    "        # Save theta according to the thinning strategy\n",
    "        if (t % thin == 0) and (t >= T_bi):\n",
    "            theta[int((t-T_bi)/thin) + 1,:] = x\n",
    "\n",
    "            # Compute the loss\n",
    "            loss_func = 0\n",
    "            for k in range(K):\n",
    "                idx = np.where(y_tot == k)\n",
    "                A = np.reshape(np.exp(np.dot(X_tot[idx,:],x)),(np.size(idx),K))\n",
    "                loss_func += np.sum(np.log(np.sum(A,axis=1)) - np.dot(X_tot[idx,:],x[:,k]))\n",
    "\n",
    "            loss[int((t-T_bi)/thin) + 1] = loss_func + (tau/2) * np.sum(np.linalg.norm(x,axis=0)**2)\n",
    "\n",
    "            # Compute the accuracy of train set\n",
    "            proba = np.zeros((len(y_tot),K))\n",
    "            A = np.reshape(np.exp(np.dot(X_tot,x)),(len(y_tot),K))\n",
    "            for k in range(K):\n",
    "                proba[:,k] = np.exp(np.dot(X_tot,x[:,k])) / np.sum(A,axis=1)\n",
    "\n",
    "            err = proba.argmax(axis=1) - y_tot\n",
    "            err[err != 0] = 1\n",
    "            acc[int((t-T_bi)/thin) + 1] = 1 - np.sum(err)/len(err)\n",
    "    \n",
    "    return theta, loss, acc"
   ]
  },
  {
   "cell_type": "code",
   "execution_count": 332,
   "metadata": {},
   "outputs": [],
   "source": [
    "# Parameters\n",
    "K = 10\n",
    "tau = 100\n",
    "w, v = np.linalg.eig(np.dot(X_tot.T,X_tot))\n",
    "w = np.max(w.real)\n",
    "M = w * (1/4) + tau \n",
    "gamma = 1/(5*M)\n",
    "L = 100\n",
    "p = 0.2\n",
    "S = [2**2,2**4,2**8,2**16]\n",
    "omega = [np.minimum(d/s**2,np.sqrt(d)/s) for s in S]\n",
    "init = np.random.normal(0,1,size=d)\n",
    "T = 500000\n",
    "\n",
    "theta1,loss1,acc1 = LSDpp(T_total=T,T_bi=0,T=T,gamma=gamma,p=p,init=init,L=L)\n",
    "#theta2,loss2,acc2 = QLSDpp(T_total=T,T_bi=0,T=T,gamma=gamma,p=p,init=init,s=S[0],L=L,alpha=1/(omega[0]+1))\n",
    "theta3,loss3,acc3 = QLSDpp(T_total=T,T_bi=0,T=T,gamma=gamma,p=p,init=init,s=S[1],L=L,alpha=1/(omega[1]+1))\n",
    "#theta4,loss4,acc4 = QLSDpp(T_total=T,T_bi=0,T=T,gamma=gamma,p=p,init=init,s=S[2],L=L,alpha=1/(omega[2]+1))\n",
    "#theta5,loss5,acc5 = QLSDpp(T_total=T,T_bi=0,T=T,gamma=gamma,p=p,init=init,s=S[3],L=L,alpha=1/(omega[3]+1))"
   ]
  },
  {
   "cell_type": "code",
   "execution_count": 73,
   "metadata": {},
   "outputs": [
    {
     "data": {
      "image/png": "[encoded data removed]",
      "text/plain": [
       "<Figure size 432x288 with 1 Axes>"
      ]
     },
     "metadata": {
      "needs_background": "light"
     },
     "output_type": "display_data"
    },
    {
     "data": {
      "image/png": "[encoded data removed]",
      "text/plain": [
       "<Figure size 432x288 with 1 Axes>"
      ]
     },
     "metadata": {
      "needs_background": "light"
     },
     "output_type": "display_data"
    }
   ],
   "source": [
    "plt.figure()\n",
    "plt.plot(acc1)\n",
    "plt.plot(acc2)\n",
    "plt.plot(acc3)\n",
    "plt.plot(acc4)\n",
    "plt.plot(acc5)\n",
    "plt.grid()\n",
    "\n",
    "plt.figure()\n",
    "plt.plot(np.cumsum(loss1[1:])/[1 + t for t in range(T-1)])\n",
    "plt.plot(np.cumsum(loss2[1:])/[1 + t for t in range(T-1)])\n",
    "plt.plot(np.cumsum(loss3[1:])/[1 + t for t in range(T-1)])\n",
    "plt.plot(np.cumsum(loss4[1:])/[1 + t for t in range(T-1)])\n",
    "plt.grid()\n",
    "plt.yscale('log')\n",
    "#plt.ylim(1e4,1.2e4)"
   ]
  },
  {
   "cell_type": "code",
   "execution_count": 299,
   "metadata": {},
   "outputs": [],
   "source": [
    "N = 200\n",
    "Tbi = 50000\n",
    "alpha = 0.01\n",
    "beta = 0.99\n",
    "eta1 = np.zeros(N)\n",
    "eta2 = np.zeros(N)\n",
    "eta3 = np.zeros(N)\n",
    "eta4 = np.zeros(N)\n",
    "eta5 = np.zeros(N)\n",
    "\n",
    "for i in range(N):\n",
    "    eta1[i] = np.quantile(loss1[Tbi:],np.linspace(alpha,beta,N)[i])\n",
    "    eta2[i] = np.quantile(loss2[Tbi:],np.linspace(alpha,beta,N)[i])\n",
    "    eta3[i] = np.quantile(loss3[Tbi:],np.linspace(alpha,beta,N)[i])\n",
    "    eta4[i] = np.quantile(loss4[Tbi:],np.linspace(alpha,beta,N)[i])\n",
    "    eta5[i] = np.quantile(loss5[Tbi:],np.linspace(alpha,beta,N)[i])"
   ]
  },
  {
   "cell_type": "code",
   "execution_count": 298,
   "metadata": {},
   "outputs": [
    {
     "data": {
      "text/plain": [
       "[<matplotlib.lines.Line2D at 0x7886b9b400>]"
      ]
     },
     "execution_count": 298,
     "metadata": {},
     "output_type": "execute_result"
    },
    {
     "data": {
      "image/png": "[encoded data removed]",
      "text/plain": [
       "<Figure size 432x288 with 1 Axes>"
      ]
     },
     "metadata": {
      "needs_background": "light"
     },
     "output_type": "display_data"
    }
   ],
   "source": [
    "A = np.zeros(4)\n",
    "A[0] = np.max(np.abs(eta2-eta1)/eta1)\n",
    "A[1] = np.max(np.abs(eta3-eta1)/eta1)\n",
    "A[2] = np.max(np.abs(eta4-eta1)/eta1)\n",
    "A[3] = np.max(np.abs(eta5-eta1)/eta1)\n",
    "plt.plot(A)"
   ]
  },
  {
   "cell_type": "code",
   "execution_count": 316,
   "metadata": {},
   "outputs": [
    {
     "name": "stdout",
     "output_type": "stream",
     "text": [
      "7.630142176060252\n",
      "6.714773425345526\n",
      "3.10710776609446\n"
     ]
    }
   ],
   "source": [
    "print((32*d)/com_bits(2**4,d))\n",
    "print((32*d)/com_bits(2**8,d))\n",
    "print((32*d)/com_bits(2**16,d))"
   ]
  },
  {
   "cell_type": "code",
   "execution_count": 326,
   "metadata": {},
   "outputs": [
    {
     "name": "stdout",
     "output_type": "stream",
     "text": [
      "0.0008111079611359241\n",
      "0.006078454469940216\n",
      "0.004337765077284434\n",
      "0.0006908447721037735\n"
     ]
    }
   ],
   "source": [
    "print((np.abs(eta2-eta1)/eta1)[99])\n",
    "print((np.abs(eta3-eta1)/eta1)[99])\n",
    "print((np.abs(eta4-eta1)/eta1)[99])\n",
    "print((np.abs(eta5-eta1)/eta1)[99])"
   ]
  },
  {
   "cell_type": "code",
   "execution_count": 331,
   "metadata": {},
   "outputs": [
    {
     "data": {
      "image/png": "[encoded data removed]",
      "text/plain": [
       "<Figure size 432x288 with 1 Axes>"
      ]
     },
     "metadata": {
      "needs_background": "light"
     },
     "output_type": "display_data"
    }
   ],
   "source": [
    "plt.plot(loss1[1:])\n",
    "plt.plot(loss2[1:])\n",
    "plt.plot(loss3[1:])\n",
    "plt.yscale('log')"
   ]
  },
  {
   "cell_type": "markdown",
   "metadata": {},
   "source": [
    "#### Predictive distribution"
   ]
  },
  {
   "cell_type": "code",
   "execution_count": 342,
   "metadata": {},
   "outputs": [],
   "source": [
    "X = [np.reshape(test_dataset[i][0].numpy(),(d,)) for i in range(1000)]\n",
    "y = [test_dataset[i][1] for i in range(1000)]"
   ]
  },
  {
   "cell_type": "code",
   "execution_count": 465,
   "metadata": {},
   "outputs": [],
   "source": [
    "idx = [0,1,2,31,5,11,15,17]\n",
    "\n",
    "T = 100000\n",
    "Tbi = 500000 - T \n",
    "K = 10\n",
    "probaLSD = np.zeros((len(idx),T,K))\n",
    "probaQLSD = np.zeros((len(idx),T,K))\n",
    "for t in range(T):\n",
    "    for i in range(len(idx)):\n",
    "        AQLSD = np.reshape(np.exp(np.dot(X[idx[i]],theta3[Tbi+t,:])),(1,K))\n",
    "        ALSD = np.reshape(np.exp(np.dot(X[idx[i]],theta1[Tbi+t,:])),(1,K))\n",
    "        for k in range(K):\n",
    "            probaQLSD[i,t,k] = np.exp(np.dot(X[idx[i]],theta3[Tbi+t,:,k])) / np.sum(AQLSD,axis=1)\n",
    "            probaLSD[i,t,k] = np.exp(np.dot(X[idx[i]],theta1[Tbi+t,:,k])) / np.sum(ALSD,axis=1)"
   ]
  },
  {
   "cell_type": "code",
   "execution_count": 466,
   "metadata": {
    "scrolled": true
   },
   "outputs": [],
   "source": [
    "import pandas as pd\n",
    "\n",
    "indicesMax = np.zeros(len(idx))\n",
    "for i in range(len(idx)):\n",
    "    indicesMax[i] = np.reshape(np.where(np.mean(probaQLSD[i,:],axis=0) \\\n",
    "                                        == np.max(np.mean(probaQLSD[i,:],axis=0))),(1,))\n",
    "\n",
    "# QLSD\n",
    "df = pd.DataFrame(data=probaQLSD[0,:,int(indicesMax[0])],\n",
    "                  columns=['Predictive distribution of most probable label'])\n",
    "df['Algorithm'] = 'QLSD++ 4 bits'\n",
    "df['observation'] = 0\n",
    "for i in range(len(idx)-1):\n",
    "    i += 1\n",
    "    df1 = pd.DataFrame(data=probaQLSD[i,:,int(indicesMax[i])],\n",
    "                       columns=['Predictive distribution of most probable label'])\n",
    "    df1['Algorithm'] = 'QLSD++ 4 bits'\n",
    "    df1['observation'] = i\n",
    "    df = pd.concat([df,df1])\n",
    "\n",
    "dfLSD = pd.DataFrame(data=probaLSD[0,:,int(indicesMax[0])],\n",
    "                     columns=['Predictive distribution of most probable label'])\n",
    "dfLSD['Algorithm'] = 'LSD++'\n",
    "dfLSD['observation'] = 0\n",
    "for i in range(len(idx)-1):\n",
    "    i += 1\n",
    "    df1 = pd.DataFrame(data=probaLSD[i,:,int(indicesMax[i])],\n",
    "                       columns=['Predictive distribution of most probable label'])\n",
    "    df1['Algorithm'] = 'LSD++'\n",
    "    df1['observation'] = i\n",
    "    dfLSD = pd.concat([dfLSD,df1])\n",
    "\n",
    "df = pd.concat([df,dfLSD])"
   ]
  },
  {
   "cell_type": "code",
   "execution_count": 514,
   "metadata": {},
   "outputs": [
    {
     "data": {
      "image/png": "[encoded data removed]",
      "text/plain": [
       "<Figure size 432x288 with 1 Axes>"
      ]
     },
     "metadata": {
      "needs_background": "light"
     },
     "output_type": "display_data"
    }
   ],
   "source": [
    "import seaborn as sns\n",
    "\n",
    "plt.figure()\n",
    "g = sns.boxplot(x = df['observation'], \n",
    "            y = df['Predictive distribution of most probable label'],\n",
    "            hue = df['Algorithm'],\n",
    "            whis=[5, 95])\n",
    "g.set(xticklabels=[])  \n",
    "g.set(xlabel=None)\n",
    "plt.legend(bbox_to_anchor=(0.1, 0.35), loc=2, borderaxespad=0.);\n",
    "plt.savefig('log_reg_predictive_distrib.png',bbox_inches='tight')"
   ]
  },
  {
   "cell_type": "code",
   "execution_count": 516,
   "metadata": {},
   "outputs": [
    {
     "data": {
      "image/png": "[encoded data removed]",
      "text/plain": [
       "<Figure size 432x288 with 1 Axes>"
      ]
     },
     "metadata": {},
     "output_type": "display_data"
    },
    {
     "data": {
      "image/png": "[encoded data removed]",
      "text/plain": [
       "<Figure size 432x288 with 1 Axes>"
      ]
     },
     "metadata": {},
     "output_type": "display_data"
    },
    {
     "data": {
      "image/png": "[encoded data removed]",
      "text/plain": [
       "<Figure size 432x288 with 1 Axes>"
      ]
     },
     "metadata": {},
     "output_type": "display_data"
    },
    {
     "data": {
      "image/png": "[encoded data removed]",
      "text/plain": [
       "<Figure size 432x288 with 1 Axes>"
      ]
     },
     "metadata": {},
     "output_type": "display_data"
    },
    {
     "data": {
      "image/png": "[encoded data removed]",
      "text/plain": [
       "<Figure size 432x288 with 1 Axes>"
      ]
     },
     "metadata": {},
     "output_type": "display_data"
    },
    {
     "data": {
      "image/png": "[encoded data removed]",
      "text/plain": [
       "<Figure size 432x288 with 1 Axes>"
      ]
     },
     "metadata": {},
     "output_type": "display_data"
    },
    {
     "data": {
      "image/png": "[encoded data removed]",
      "text/plain": [
       "<Figure size 432x288 with 1 Axes>"
      ]
     },
     "metadata": {},
     "output_type": "display_data"
    },
    {
     "data": {
      "image/png": "[encoded data removed]",
      "text/plain": [
       "<Figure size 432x288 with 1 Axes>"
      ]
     },
     "metadata": {},
     "output_type": "display_data"
    }
   ],
   "source": [
    "import scipy\n",
    "from PIL import Image\n",
    "from PIL import ImageOps\n",
    "\n",
    "for i in range(len(idx)):  \n",
    "    plt.figure()\n",
    "    img = np.fliplr(np.reshape(X[idx[i]],(28,28)))\n",
    "    tr = scipy.ndimage.rotate(img, 90)\n",
    "    plt.imshow(tr,cmap='Greys_r')\n",
    "    plt.xticks([])\n",
    "    plt.yticks([])\n",
    "    plt.savefig('digit_%i.png'%i,bbox_inches='tight')"
   ]
  },
  {
   "cell_type": "code",
   "execution_count": 464,
   "metadata": {},
   "outputs": [
    {
     "name": "stdout",
     "output_type": "stream",
     "text": [
      "9\n"
     ]
    },
    {
     "data": {
      "image/png": "[encoded data removed]",
      "text/plain": [
       "<Figure size 432x288 with 1 Axes>"
      ]
     },
     "metadata": {
      "needs_background": "light"
     },
     "output_type": "display_data"
    }
   ],
   "source": [
    "idxx = 31\n",
    "plt.imshow(np.reshape(X[idxx],(28,28)))\n",
    "print(y[idxx])"
   ]
  },
  {
   "cell_type": "code",
   "execution_count": 350,
   "metadata": {},
   "outputs": [
    {
     "data": {
      "text/plain": [
       "(784,)"
      ]
     },
     "execution_count": 350,
     "metadata": {},
     "output_type": "execute_result"
    }
   ],
   "source": [
    "X[999].shape"
   ]
  },
  {
   "cell_type": "code",
   "execution_count": 368,
   "metadata": {},
   "outputs": [
    {
     "data": {
      "text/plain": [
       "[0, 9, 7, 9, 2, 2, 3, 1, 0, 0]"
      ]
     },
     "execution_count": 368,
     "metadata": {},
     "output_type": "execute_result"
    }
   ],
   "source": [
    "y[0]"
   ]
  },
  {
   "cell_type": "code",
   "execution_count": null,
   "metadata": {},
   "outputs": [],
   "source": []
  }
 ],
 "metadata": {
  "kernelspec": {
   "display_name": "Python 3",
   "language": "python",
   "name": "python3"
  },
  "language_info": {
   "codemirror_mode": {
    "name": "ipython",
    "version": 3
   },
   "file_extension": ".py",
   "mimetype": "text/x-python",
   "name": "python",
   "nbconvert_exporter": "python",
   "pygments_lexer": "ipython3",
   "version": "3.8.5"
  }
 },
 "nbformat": 4,
 "nbformat_minor": 4
}
